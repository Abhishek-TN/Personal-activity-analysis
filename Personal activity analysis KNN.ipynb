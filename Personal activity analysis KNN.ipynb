{
 "cells": [
  {
   "cell_type": "code",
   "execution_count": 1,
   "metadata": {},
   "outputs": [],
   "source": [
    "import pandas as pd\n",
    "import numpy as np\n",
    "import matplotlib.pyplot as plt\n",
    "import plotly.express as px\n",
    "import plotly.graph_objects as go\n",
    "from sklearn.model_selection import train_test_split\n",
    "from sklearn.preprocessing import StandardScaler"
   ]
  },
  {
   "cell_type": "code",
   "execution_count": 2,
   "metadata": {},
   "outputs": [],
   "source": [
    "from sklearn.neighbors import KNeighborsClassifier"
   ]
  },
  {
   "cell_type": "code",
   "execution_count": 3,
   "metadata": {},
   "outputs": [],
   "source": [
    "from sklearn.metrics import accuracy_score, classification_report, confusion_matrix, f1_score"
   ]
  },
  {
   "cell_type": "code",
   "execution_count": 4,
   "metadata": {},
   "outputs": [
    {
     "name": "stdout",
     "output_type": "stream",
     "text": [
      "           Id ActivityDate  TotalSteps  TotalDistance  TrackerDistance  \\\n",
      "0  1503960366    3/25/2016       11004           7.11             7.11   \n",
      "1  1503960366    3/26/2016       17609          11.55            11.55   \n",
      "2  1503960366    3/27/2016       12736           8.53             8.53   \n",
      "3  1503960366    3/28/2016       13231           8.93             8.93   \n",
      "4  1503960366    3/29/2016       12041           7.85             7.85   \n",
      "5  1503960366    3/30/2016       10970           7.16             7.16   \n",
      "6  1503960366    3/31/2016       12256           7.86             7.86   \n",
      "7  1503960366     4/1/2016       12262           7.87             7.87   \n",
      "8  1503960366     4/2/2016       11248           7.25             7.25   \n",
      "9  1503960366     4/3/2016       10016           6.37             6.37   \n",
      "\n",
      "   LoggedActivitiesDistance  VeryActiveDistance  ModeratelyActiveDistance  \\\n",
      "0                       0.0                2.57                      0.46   \n",
      "1                       0.0                6.92                      0.73   \n",
      "2                       0.0                4.66                      0.16   \n",
      "3                       0.0                3.19                      0.79   \n",
      "4                       0.0                2.16                      1.09   \n",
      "5                       0.0                2.36                      0.51   \n",
      "6                       0.0                2.29                      0.49   \n",
      "7                       0.0                3.32                      0.83   \n",
      "8                       0.0                3.00                      0.45   \n",
      "9                       0.0                0.91                      1.28   \n",
      "\n",
      "   LightActiveDistance  SedentaryActiveDistance  VeryActiveMinutes  \\\n",
      "0                 4.07                      0.0                 33   \n",
      "1                 3.91                      0.0                 89   \n",
      "2                 3.71                      0.0                 56   \n",
      "3                 4.95                      0.0                 39   \n",
      "4                 4.61                      0.0                 28   \n",
      "5                 4.29                      0.0                 30   \n",
      "6                 5.04                      0.0                 33   \n",
      "7                 3.64                      0.0                 47   \n",
      "8                 3.74                      0.0                 40   \n",
      "9                 4.18                      0.0                 15   \n",
      "\n",
      "   FairlyActiveMinutes  LightlyActiveMinutes  SedentaryMinutes  Calories  \n",
      "0                   12                   205               804      1819  \n",
      "1                   17                   274               588      2154  \n",
      "2                    5                   268               605      1944  \n",
      "3                   20                   224              1080      1932  \n",
      "4                   28                   243               763      1886  \n",
      "5                   13                   223              1174      1820  \n",
      "6                   12                   239               820      1889  \n",
      "7                   21                   200               866      1868  \n",
      "8                   11                   244               636      1843  \n",
      "9                   30                   314               655      1850  \n"
     ]
    }
   ],
   "source": [
    "data = pd.read_csv(\"FitBit data.csv\")\n",
    "print(data.head(10))"
   ]
  },
  {
   "cell_type": "code",
   "execution_count": 5,
   "metadata": {},
   "outputs": [
    {
     "name": "stdout",
     "output_type": "stream",
     "text": [
      "Id                          0\n",
      "ActivityDate                0\n",
      "TotalSteps                  0\n",
      "TotalDistance               0\n",
      "TrackerDistance             0\n",
      "LoggedActivitiesDistance    0\n",
      "VeryActiveDistance          0\n",
      "ModeratelyActiveDistance    0\n",
      "LightActiveDistance         0\n",
      "SedentaryActiveDistance     0\n",
      "VeryActiveMinutes           0\n",
      "FairlyActiveMinutes         0\n",
      "LightlyActiveMinutes        0\n",
      "SedentaryMinutes            0\n",
      "Calories                    0\n",
      "dtype: int64\n"
     ]
    }
   ],
   "source": [
    "print(data.isnull().sum())"
   ]
  },
  {
   "cell_type": "code",
   "execution_count": 6,
   "metadata": {},
   "outputs": [
    {
     "name": "stdout",
     "output_type": "stream",
     "text": [
      "<class 'pandas.core.frame.DataFrame'>\n",
      "RangeIndex: 457 entries, 0 to 456\n",
      "Data columns (total 15 columns):\n",
      " #   Column                    Non-Null Count  Dtype  \n",
      "---  ------                    --------------  -----  \n",
      " 0   Id                        457 non-null    int64  \n",
      " 1   ActivityDate              457 non-null    object \n",
      " 2   TotalSteps                457 non-null    int64  \n",
      " 3   TotalDistance             457 non-null    float64\n",
      " 4   TrackerDistance           457 non-null    float64\n",
      " 5   LoggedActivitiesDistance  457 non-null    float64\n",
      " 6   VeryActiveDistance        457 non-null    float64\n",
      " 7   ModeratelyActiveDistance  457 non-null    float64\n",
      " 8   LightActiveDistance       457 non-null    float64\n",
      " 9   SedentaryActiveDistance   457 non-null    float64\n",
      " 10  VeryActiveMinutes         457 non-null    int64  \n",
      " 11  FairlyActiveMinutes       457 non-null    int64  \n",
      " 12  LightlyActiveMinutes      457 non-null    int64  \n",
      " 13  SedentaryMinutes          457 non-null    int64  \n",
      " 14  Calories                  457 non-null    int64  \n",
      "dtypes: float64(7), int64(7), object(1)\n",
      "memory usage: 53.7+ KB\n",
      "None\n"
     ]
    }
   ],
   "source": [
    "print(data.info())"
   ]
  },
  {
   "cell_type": "code",
   "execution_count": 7,
   "metadata": {},
   "outputs": [
    {
     "name": "stdout",
     "output_type": "stream",
     "text": [
      "                 Id    TotalSteps  TotalDistance  TrackerDistance  \\\n",
      "count  4.570000e+02    457.000000     457.000000       457.000000   \n",
      "mean   4.628595e+09   6546.562363       4.663523         4.609847   \n",
      "std    2.293781e+09   5398.493064       4.082072         4.068540   \n",
      "min    1.503960e+09      0.000000       0.000000         0.000000   \n",
      "25%    2.347168e+09   1988.000000       1.410000         1.280000   \n",
      "50%    4.057193e+09   5986.000000       4.090000         4.090000   \n",
      "75%    6.391747e+09  10198.000000       7.160000         7.110000   \n",
      "max    8.877689e+09  28497.000000      27.530001        27.530001   \n",
      "\n",
      "       LoggedActivitiesDistance  VeryActiveDistance  ModeratelyActiveDistance  \\\n",
      "count                457.000000          457.000000                457.000000   \n",
      "mean                   0.179427            1.180897                  0.478643   \n",
      "std                    0.849232            2.487159                  0.830995   \n",
      "min                    0.000000            0.000000                  0.000000   \n",
      "25%                    0.000000            0.000000                  0.000000   \n",
      "50%                    0.000000            0.000000                  0.020000   \n",
      "75%                    0.000000            1.310000                  0.670000   \n",
      "max                    6.727057           21.920000                  6.400000   \n",
      "\n",
      "       LightActiveDistance  SedentaryActiveDistance  VeryActiveMinutes  \\\n",
      "count           457.000000               457.000000         457.000000   \n",
      "mean              2.890197                 0.001904          16.623632   \n",
      "std               2.237523                 0.008487          28.919704   \n",
      "min               0.000000                 0.000000           0.000000   \n",
      "25%               0.870000                 0.000000           0.000000   \n",
      "50%               2.930000                 0.000000           0.000000   \n",
      "75%               4.460000                 0.000000          25.000000   \n",
      "max              12.510000                 0.100000         202.000000   \n",
      "\n",
      "       FairlyActiveMinutes  LightlyActiveMinutes  SedentaryMinutes  \\\n",
      "count           457.000000            457.000000        457.000000   \n",
      "mean             13.070022            170.070022        995.282276   \n",
      "std              36.208635            122.205372        337.021404   \n",
      "min               0.000000              0.000000         32.000000   \n",
      "25%               0.000000             64.000000        728.000000   \n",
      "50%               1.000000            181.000000       1057.000000   \n",
      "75%              16.000000            257.000000       1285.000000   \n",
      "max             660.000000            720.000000       1440.000000   \n",
      "\n",
      "          Calories  \n",
      "count   457.000000  \n",
      "mean   2189.452954  \n",
      "std     815.484523  \n",
      "min       0.000000  \n",
      "25%    1776.000000  \n",
      "50%    2062.000000  \n",
      "75%    2667.000000  \n",
      "max    4562.000000  \n"
     ]
    }
   ],
   "source": [
    "print(data.describe())"
   ]
  },
  {
   "cell_type": "code",
   "execution_count": 8,
   "metadata": {},
   "outputs": [],
   "source": [
    "data[\"ActivityDate\"] = pd.to_datetime(data[\"ActivityDate\"],format=\"%m/%d/%Y\")"
   ]
  },
  {
   "cell_type": "code",
   "execution_count": 9,
   "metadata": {},
   "outputs": [],
   "source": [
    "X = data.drop(columns=['Id', 'ActivityDate'])\n",
    "y = data['ActivityDate']"
   ]
  },
  {
   "cell_type": "code",
   "execution_count": 10,
   "metadata": {},
   "outputs": [],
   "source": [
    "X_train, X_test, y_train, y_test = train_test_split(X, y, test_size=0.2, random_state=42)"
   ]
  },
  {
   "cell_type": "code",
   "execution_count": 11,
   "metadata": {},
   "outputs": [],
   "source": [
    "sc_X = StandardScaler()\n",
    "X_train = sc_X.fit_transform(X_train)\n",
    "X_test = sc_X.transform(X_test)"
   ]
  },
  {
   "cell_type": "code",
   "execution_count": 12,
   "metadata": {},
   "outputs": [],
   "source": [
    "KNN = KNeighborsClassifier()"
   ]
  },
  {
   "cell_type": "code",
   "execution_count": 13,
   "metadata": {},
   "outputs": [
    {
     "data": {
      "text/plain": [
       "KNeighborsClassifier()"
      ]
     },
     "execution_count": 13,
     "metadata": {},
     "output_type": "execute_result"
    }
   ],
   "source": [
    "KNN.fit(X_train, y_train)"
   ]
  },
  {
   "cell_type": "code",
   "execution_count": 14,
   "metadata": {},
   "outputs": [
    {
     "name": "stderr",
     "output_type": "stream",
     "text": [
      "c:\\Users\\SaiAnkith\\anaconda3\\anaconda\\lib\\site-packages\\sklearn\\neighbors\\_classification.py:228: FutureWarning: Unlike other reduction functions (e.g. `skew`, `kurtosis`), the default behavior of `mode` typically preserves the axis it acts along. In SciPy 1.11.0, this behavior will change: the default value of `keepdims` will become False, the `axis` over which the statistic is taken will be eliminated, and the value None will no longer be accepted. Set `keepdims` to True or False to avoid this warning.\n",
      "  mode, _ = stats.mode(_y[neigh_ind, k], axis=1)\n"
     ]
    }
   ],
   "source": [
    "knn_pred = KNN.predict(X_test)"
   ]
  },
  {
   "cell_type": "code",
   "execution_count": 15,
   "metadata": {},
   "outputs": [
    {
     "data": {
      "text/plain": [
       "array(['2016-04-01T00:00:00.000000000', '2016-04-08T00:00:00.000000000',\n",
       "       '2016-04-04T00:00:00.000000000', '2016-03-17T00:00:00.000000000',\n",
       "       '2016-04-05T00:00:00.000000000', '2016-03-23T00:00:00.000000000',\n",
       "       '2016-03-21T00:00:00.000000000', '2016-04-04T00:00:00.000000000',\n",
       "       '2016-04-05T00:00:00.000000000', '2016-03-26T00:00:00.000000000',\n",
       "       '2016-04-08T00:00:00.000000000', '2016-03-29T00:00:00.000000000',\n",
       "       '2016-03-29T00:00:00.000000000', '2016-04-01T00:00:00.000000000',\n",
       "       '2016-04-05T00:00:00.000000000', '2016-04-01T00:00:00.000000000',\n",
       "       '2016-04-01T00:00:00.000000000', '2016-04-06T00:00:00.000000000',\n",
       "       '2016-04-01T00:00:00.000000000', '2016-04-02T00:00:00.000000000',\n",
       "       '2016-03-28T00:00:00.000000000', '2016-04-01T00:00:00.000000000',\n",
       "       '2016-03-22T00:00:00.000000000', '2016-04-02T00:00:00.000000000',\n",
       "       '2016-03-17T00:00:00.000000000', '2016-04-01T00:00:00.000000000',\n",
       "       '2016-03-28T00:00:00.000000000', '2016-04-01T00:00:00.000000000',\n",
       "       '2016-04-04T00:00:00.000000000', '2016-04-12T00:00:00.000000000',\n",
       "       '2016-04-01T00:00:00.000000000', '2016-04-02T00:00:00.000000000',\n",
       "       '2016-03-13T00:00:00.000000000', '2016-03-31T00:00:00.000000000',\n",
       "       '2016-03-28T00:00:00.000000000', '2016-04-02T00:00:00.000000000',\n",
       "       '2016-04-02T00:00:00.000000000', '2016-04-08T00:00:00.000000000',\n",
       "       '2016-04-03T00:00:00.000000000', '2016-04-01T00:00:00.000000000',\n",
       "       '2016-03-29T00:00:00.000000000', '2016-04-01T00:00:00.000000000',\n",
       "       '2016-03-29T00:00:00.000000000', '2016-04-01T00:00:00.000000000',\n",
       "       '2016-04-11T00:00:00.000000000', '2016-04-08T00:00:00.000000000',\n",
       "       '2016-04-06T00:00:00.000000000', '2016-04-04T00:00:00.000000000',\n",
       "       '2016-03-13T00:00:00.000000000', '2016-03-29T00:00:00.000000000',\n",
       "       '2016-04-02T00:00:00.000000000', '2016-03-22T00:00:00.000000000',\n",
       "       '2016-03-29T00:00:00.000000000', '2016-03-31T00:00:00.000000000',\n",
       "       '2016-03-29T00:00:00.000000000', '2016-03-27T00:00:00.000000000',\n",
       "       '2016-03-31T00:00:00.000000000', '2016-04-05T00:00:00.000000000',\n",
       "       '2016-03-29T00:00:00.000000000', '2016-04-12T00:00:00.000000000',\n",
       "       '2016-04-05T00:00:00.000000000', '2016-03-31T00:00:00.000000000',\n",
       "       '2016-03-27T00:00:00.000000000', '2016-04-02T00:00:00.000000000',\n",
       "       '2016-04-02T00:00:00.000000000', '2016-03-29T00:00:00.000000000',\n",
       "       '2016-03-17T00:00:00.000000000', '2016-04-02T00:00:00.000000000',\n",
       "       '2016-04-12T00:00:00.000000000', '2016-03-13T00:00:00.000000000',\n",
       "       '2016-04-03T00:00:00.000000000', '2016-04-06T00:00:00.000000000',\n",
       "       '2016-03-27T00:00:00.000000000', '2016-03-26T00:00:00.000000000',\n",
       "       '2016-04-06T00:00:00.000000000', '2016-04-01T00:00:00.000000000',\n",
       "       '2016-04-02T00:00:00.000000000', '2016-03-21T00:00:00.000000000',\n",
       "       '2016-04-01T00:00:00.000000000', '2016-03-29T00:00:00.000000000',\n",
       "       '2016-04-05T00:00:00.000000000', '2016-04-04T00:00:00.000000000',\n",
       "       '2016-03-29T00:00:00.000000000', '2016-04-07T00:00:00.000000000',\n",
       "       '2016-04-07T00:00:00.000000000', '2016-04-03T00:00:00.000000000',\n",
       "       '2016-04-02T00:00:00.000000000', '2016-03-29T00:00:00.000000000',\n",
       "       '2016-03-29T00:00:00.000000000', '2016-03-31T00:00:00.000000000',\n",
       "       '2016-03-31T00:00:00.000000000', '2016-04-07T00:00:00.000000000'],\n",
       "      dtype='datetime64[ns]')"
      ]
     },
     "execution_count": 15,
     "metadata": {},
     "output_type": "execute_result"
    }
   ],
   "source": [
    "knn_pred"
   ]
  },
  {
   "cell_type": "code",
   "execution_count": 16,
   "metadata": {},
   "outputs": [
    {
     "name": "stdout",
     "output_type": "stream",
     "text": [
      "[[0 0 0 0 0 0 0 0 0 0 0 0 0 0 0 0 0 0 0 0 0 0 0 0 0 0 0 0 0]\n",
      " [0 0 0 0 0 0 0 0 1 0 0 0 0 0 0 0 0 0 0 0 0 0 0 0 0 0 0 0 0]\n",
      " [0 0 0 0 0 0 0 0 0 0 0 0 0 0 1 0 0 0 0 0 0 0 0 0 0 0 0 0 0]\n",
      " [0 0 0 0 0 0 0 0 0 0 0 0 0 0 0 0 0 0 0 0 0 0 0 0 0 0 0 0 0]\n",
      " [0 0 0 0 0 0 0 0 0 0 0 0 0 0 0 0 0 0 0 0 0 0 1 0 0 0 0 0 0]\n",
      " [0 0 0 0 0 0 1 0 0 0 0 0 0 0 0 0 0 0 0 0 0 0 0 0 0 0 0 0 0]\n",
      " [0 0 0 0 0 0 0 0 0 0 0 0 0 0 0 0 0 0 0 0 0 0 0 0 0 0 0 0 0]\n",
      " [0 0 0 0 0 0 0 0 0 0 0 0 0 0 0 0 0 0 0 0 0 0 0 0 0 0 0 0 0]\n",
      " [0 0 0 0 0 0 0 0 0 0 0 0 0 0 0 0 0 0 0 0 0 0 0 0 0 0 0 0 0]\n",
      " [1 0 0 0 0 0 0 0 0 0 0 0 0 0 0 0 0 0 0 0 0 0 0 0 0 0 0 0 0]\n",
      " [0 0 0 0 0 0 0 0 0 0 0 0 1 0 0 0 1 0 0 0 0 0 0 0 0 0 0 0 0]\n",
      " [0 0 0 0 0 0 0 0 0 0 0 0 0 0 0 0 0 0 0 0 0 0 0 0 0 0 0 0 0]\n",
      " [0 0 0 0 0 0 1 0 0 0 0 0 0 0 0 0 0 0 0 0 0 0 0 0 0 0 0 0 0]\n",
      " [0 0 0 0 0 0 0 0 0 0 0 0 0 0 0 0 0 0 0 0 0 0 0 1 0 0 0 0 0]\n",
      " [0 0 0 0 0 0 0 0 0 0 0 0 0 0 0 0 0 0 0 0 0 0 0 0 0 0 0 0 0]\n",
      " [0 0 0 0 0 0 0 0 0 0 0 0 0 0 0 0 0 0 0 0 0 0 0 1 0 0 0 0 0]\n",
      " [0 0 0 0 0 0 0 0 0 0 0 0 1 0 1 0 0 0 0 0 0 0 0 0 0 0 0 0 0]\n",
      " [0 0 0 0 0 0 0 0 0 0 0 0 0 0 1 0 0 1 0 0 0 1 0 0 1 0 0 1 0]\n",
      " [1 0 0 1 0 0 0 0 0 0 0 0 0 0 0 0 1 3 0 1 0 1 0 0 1 0 0 0 0]\n",
      " [0 0 0 0 0 0 0 0 0 0 0 1 0 0 1 0 1 1 1 1 1 2 0 0 0 0 0 0 0]\n",
      " [0 0 0 1 0 0 0 0 0 0 0 0 0 0 1 0 1 2 2 0 0 1 0 0 1 0 0 0 0]\n",
      " [0 0 0 0 0 0 0 0 0 0 0 1 0 0 0 0 1 2 3 0 0 0 0 0 0 0 0 0 0]\n",
      " [0 0 0 0 0 0 0 0 0 0 0 0 1 1 3 0 0 0 0 0 2 0 0 0 0 0 0 0 0]\n",
      " [0 0 0 0 0 0 0 0 0 0 0 0 0 1 0 0 0 3 1 0 0 0 0 0 0 0 0 0 0]\n",
      " [0 0 0 1 0 0 0 1 0 0 0 0 0 1 1 0 0 1 1 0 2 0 0 0 0 0 0 0 0]\n",
      " [0 0 0 0 0 0 0 0 0 0 0 0 0 0 2 0 0 0 1 0 0 1 1 1 1 0 0 0 0]\n",
      " [1 0 0 0 0 0 0 0 0 0 0 0 0 0 1 0 1 1 1 1 0 0 0 0 0 0 0 0 0]\n",
      " [0 0 0 0 0 0 0 1 0 0 0 0 0 0 1 0 0 0 1 0 0 0 2 0 0 0 0 0 0]\n",
      " [0 0 0 0 0 0 0 0 0 0 0 0 0 0 0 0 0 0 0 0 0 0 0 0 0 0 0 0 3]]\n"
     ]
    }
   ],
   "source": [
    "knn_cm = confusion_matrix(y_test, knn_pred)\n",
    "print(knn_cm)"
   ]
  },
  {
   "cell_type": "code",
   "execution_count": 17,
   "metadata": {},
   "outputs": [
    {
     "name": "stdout",
     "output_type": "stream",
     "text": [
      "0.05463386727688787\n"
     ]
    }
   ],
   "source": [
    "print(f1_score(y_test, knn_pred, average = 'weighted'))"
   ]
  },
  {
   "cell_type": "code",
   "execution_count": 18,
   "metadata": {},
   "outputs": [
    {
     "name": "stdout",
     "output_type": "stream",
     "text": [
      "KNN Accuracy: 0.05434782608695652\n"
     ]
    }
   ],
   "source": [
    "print(\"KNN Accuracy:\", accuracy_score(y_test, knn_pred))"
   ]
  },
  {
   "cell_type": "code",
   "execution_count": 19,
   "metadata": {},
   "outputs": [
    {
     "name": "stdout",
     "output_type": "stream",
     "text": [
      "\n",
      "Classification Report - KNN:\n",
      "                               precision    recall  f1-score   support\n",
      "\n",
      "2016-03-13T00:00:00.000000000       0.00      0.00      0.00         0\n",
      "2016-03-14T00:00:00.000000000       0.00      0.00      0.00         1\n",
      "2016-03-15T00:00:00.000000000       0.00      0.00      0.00         1\n",
      "2016-03-17T00:00:00.000000000       0.00      0.00      0.00         0\n",
      "2016-03-18T00:00:00.000000000       0.00      0.00      0.00         1\n",
      "2016-03-19T00:00:00.000000000       0.00      0.00      0.00         1\n",
      "2016-03-21T00:00:00.000000000       0.00      0.00      0.00         0\n",
      "2016-03-22T00:00:00.000000000       0.00      0.00      0.00         0\n",
      "2016-03-23T00:00:00.000000000       0.00      0.00      0.00         0\n",
      "2016-03-24T00:00:00.000000000       0.00      0.00      0.00         1\n",
      "2016-03-25T00:00:00.000000000       0.00      0.00      0.00         2\n",
      "2016-03-26T00:00:00.000000000       0.00      0.00      0.00         0\n",
      "2016-03-27T00:00:00.000000000       0.00      0.00      0.00         1\n",
      "2016-03-28T00:00:00.000000000       0.00      0.00      0.00         1\n",
      "2016-03-29T00:00:00.000000000       0.00      0.00      0.00         0\n",
      "2016-03-30T00:00:00.000000000       0.00      0.00      0.00         1\n",
      "2016-03-31T00:00:00.000000000       0.00      0.00      0.00         2\n",
      "2016-04-01T00:00:00.000000000       0.07      0.20      0.11         5\n",
      "2016-04-02T00:00:00.000000000       0.00      0.00      0.00         9\n",
      "2016-04-03T00:00:00.000000000       0.33      0.11      0.17         9\n",
      "2016-04-04T00:00:00.000000000       0.00      0.00      0.00         9\n",
      "2016-04-05T00:00:00.000000000       0.00      0.00      0.00         7\n",
      "2016-04-06T00:00:00.000000000       0.00      0.00      0.00         7\n",
      "2016-04-07T00:00:00.000000000       0.00      0.00      0.00         5\n",
      "2016-04-08T00:00:00.000000000       0.00      0.00      0.00         8\n",
      "2016-04-09T00:00:00.000000000       0.00      0.00      0.00         7\n",
      "2016-04-10T00:00:00.000000000       0.00      0.00      0.00         6\n",
      "2016-04-11T00:00:00.000000000       0.00      0.00      0.00         5\n",
      "2016-04-12T00:00:00.000000000       1.00      1.00      1.00         3\n",
      "\n",
      "                     accuracy                           0.05        92\n",
      "                    macro avg       0.05      0.05      0.04        92\n",
      "                 weighted avg       0.07      0.05      0.05        92\n",
      "\n"
     ]
    },
    {
     "name": "stderr",
     "output_type": "stream",
     "text": [
      "c:\\Users\\SaiAnkith\\anaconda3\\anaconda\\lib\\site-packages\\sklearn\\metrics\\_classification.py:1318: UndefinedMetricWarning: Precision and F-score are ill-defined and being set to 0.0 in labels with no predicted samples. Use `zero_division` parameter to control this behavior.\n",
      "  _warn_prf(average, modifier, msg_start, len(result))\n",
      "c:\\Users\\SaiAnkith\\anaconda3\\anaconda\\lib\\site-packages\\sklearn\\metrics\\_classification.py:1318: UndefinedMetricWarning: Recall and F-score are ill-defined and being set to 0.0 in labels with no true samples. Use `zero_division` parameter to control this behavior.\n",
      "  _warn_prf(average, modifier, msg_start, len(result))\n",
      "c:\\Users\\SaiAnkith\\anaconda3\\anaconda\\lib\\site-packages\\sklearn\\metrics\\_classification.py:1318: UndefinedMetricWarning: Precision and F-score are ill-defined and being set to 0.0 in labels with no predicted samples. Use `zero_division` parameter to control this behavior.\n",
      "  _warn_prf(average, modifier, msg_start, len(result))\n",
      "c:\\Users\\SaiAnkith\\anaconda3\\anaconda\\lib\\site-packages\\sklearn\\metrics\\_classification.py:1318: UndefinedMetricWarning: Recall and F-score are ill-defined and being set to 0.0 in labels with no true samples. Use `zero_division` parameter to control this behavior.\n",
      "  _warn_prf(average, modifier, msg_start, len(result))\n",
      "c:\\Users\\SaiAnkith\\anaconda3\\anaconda\\lib\\site-packages\\sklearn\\metrics\\_classification.py:1318: UndefinedMetricWarning: Precision and F-score are ill-defined and being set to 0.0 in labels with no predicted samples. Use `zero_division` parameter to control this behavior.\n",
      "  _warn_prf(average, modifier, msg_start, len(result))\n",
      "c:\\Users\\SaiAnkith\\anaconda3\\anaconda\\lib\\site-packages\\sklearn\\metrics\\_classification.py:1318: UndefinedMetricWarning: Recall and F-score are ill-defined and being set to 0.0 in labels with no true samples. Use `zero_division` parameter to control this behavior.\n",
      "  _warn_prf(average, modifier, msg_start, len(result))\n"
     ]
    }
   ],
   "source": [
    "print(\"\\nClassification Report - KNN:\")\n",
    "print(classification_report(y_test, knn_pred))"
   ]
  }
 ],
 "metadata": {
  "kernelspec": {
   "display_name": "base",
   "language": "python",
   "name": "python3"
  },
  "language_info": {
   "codemirror_mode": {
    "name": "ipython",
    "version": 3
   },
   "file_extension": ".py",
   "mimetype": "text/x-python",
   "name": "python",
   "nbconvert_exporter": "python",
   "pygments_lexer": "ipython3",
   "version": "3.9.13"
  }
 },
 "nbformat": 4,
 "nbformat_minor": 2
}
